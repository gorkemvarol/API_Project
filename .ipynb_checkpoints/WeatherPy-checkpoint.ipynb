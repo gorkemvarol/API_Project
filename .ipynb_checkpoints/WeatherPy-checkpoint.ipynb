{
 "cells": [
  {
   "cell_type": "markdown",
   "metadata": {},
   "source": [
    "# WeatherPy\n",
    "----\n",
    "\n",
    "#### Note\n",
    "* Instructions have been included for each segment. You do not have to follow them exactly, but they are included to help you think through the steps."
   ]
  },
  {
   "cell_type": "markdown",
   "metadata": {},
   "source": [
    "## Generate Cities List"
   ]
  },
  {
   "cell_type": "code",
   "execution_count": 1,
   "metadata": {},
   "outputs": [
    {
     "name": "stdout",
     "output_type": "stream",
     "text": [
      "Requirement already satisfied: citipy in /Users/gorkemvarol/opt/anaconda3/lib/python3.8/site-packages (0.0.5)\n",
      "Requirement already satisfied: kdtree>=0.12 in /Users/gorkemvarol/opt/anaconda3/lib/python3.8/site-packages (from citipy) (0.16)\n",
      "Note: you may need to restart the kernel to use updated packages.\n"
     ]
    }
   ],
   "source": [
    "pip install citipy"
   ]
  },
  {
   "cell_type": "code",
   "execution_count": 2,
   "metadata": {},
   "outputs": [],
   "source": [
    "# Dependencies and Setup\n",
    "import matplotlib.pyplot as plt\n",
    "import pandas as pd\n",
    "import numpy as np\n",
    "import requests\n",
    "import time\n",
    "from scipy.stats import linregress\n",
    "\n",
    "# Import API key\n",
    "from api_keys import weather_api_key\n",
    "\n",
    "\n",
    "from citipy import citipy\n",
    "\n",
    "# Output File (CSV)\n",
    "output_data_file = \"../output_data/cities.csv\"\n",
    "\n",
    "lat_range = (-90, 90)\n",
    "lng_range = (-180, 180)"
   ]
  },
  {
   "cell_type": "code",
   "execution_count": 3,
   "metadata": {},
   "outputs": [
    {
     "data": {
      "text/plain": [
       "619"
      ]
     },
     "execution_count": 3,
     "metadata": {},
     "output_type": "execute_result"
    }
   ],
   "source": [
    "\n",
    "lat_lngs = []\n",
    "cities = []\n",
    "\n",
    "lats = np.random.uniform(lat_range[0], lat_range[1], size=1500)\n",
    "lngs = np.random.uniform(lng_range[0], lng_range[1], size=1500)\n",
    "lat_lngs = zip(lats, lngs)\n",
    "\n",
    "for lat_lng in lat_lngs:\n",
    "    city = citipy.nearest_city(lat_lng[0], lat_lng[1]).city_name\n",
    "    \n",
    "    if city not in cities:\n",
    "        cities.append(city)\n",
    "\n",
    "len(cities)"
   ]
  },
  {
   "cell_type": "code",
   "execution_count": null,
   "metadata": {},
   "outputs": [],
   "source": []
  },
  {
   "cell_type": "code",
   "execution_count": null,
   "metadata": {},
   "outputs": [],
   "source": []
  },
  {
   "cell_type": "markdown",
   "metadata": {},
   "source": [
    "### Perform API Calls\n",
    "* Perform a weather check on each city using a series of successive API calls.\n",
    "* Include a print log of each city as it'sbeing processed (with the city number and city name).\n"
   ]
  },
  {
   "cell_type": "code",
   "execution_count": null,
   "metadata": {},
   "outputs": [
    {
     "name": "stdout",
     "output_type": "stream",
     "text": [
      "Processing khandyga Number 1 in Set 1.\n",
      "Processing faya Number 2 in Set 1.\n",
      "Processing ushuaia Number 3 in Set 1.\n",
      "Processing gorin Number 4 in Set 1.\n",
      "Processing mar del plata Number 5 in Set 1.\n",
      "Processing khatanga Number 6 in Set 1.\n",
      "Processing salme Number 7 in Set 1.\n",
      "Processing busselton Number 8 in Set 1.\n",
      "Processing vaini Number 9 in Set 1.\n",
      "Processing hermanus Number 10 in Set 1.\n",
      "Processing saskylakh Number 11 in Set 1.\n",
      "Processing tual Number 12 in Set 1.\n",
      "Processing methoni Number 13 in Set 1.\n",
      "Processing chantada Number 14 in Set 1.\n",
      "Processing bluff Number 15 in Set 1.\n",
      "Processing illoqqortoormiut Number 16 in Set 1.\n",
      "illoqqortoormiut not found. Skipping.\n",
      "Processing jamestown Number 17 in Set 1.\n",
      "Processing mogadishu Number 18 in Set 1.\n",
      "Processing rikitea Number 19 in Set 1.\n",
      "Processing albany Number 20 in Set 1.\n",
      "Processing dikson Number 21 in Set 1.\n",
      "Processing eyl Number 22 in Set 1.\n",
      "Processing lebu Number 23 in Set 1.\n",
      "Processing chiriguana Number 24 in Set 1.\n",
      "Processing gornopravdinsk Number 25 in Set 1.\n",
      "Processing beyneu Number 26 in Set 1.\n",
      "Processing mataura Number 27 in Set 1.\n",
      "Processing lompoc Number 28 in Set 1.\n",
      "Processing mandurah Number 29 in Set 1.\n",
      "Processing hilo Number 30 in Set 1.\n",
      "Processing punta arenas Number 31 in Set 1.\n",
      "Processing grand river south east Number 32 in Set 1.\n",
      "grand river south east not found. Skipping.\n",
      "Processing upernavik Number 33 in Set 1.\n",
      "Processing narodychi Number 34 in Set 1.\n",
      "Processing kulhudhuffushi Number 35 in Set 1.\n",
      "Processing castro Number 36 in Set 1.\n",
      "Processing ngukurr Number 37 in Set 1.\n",
      "ngukurr not found. Skipping.\n",
      "Processing alegrete Number 38 in Set 1.\n",
      "Processing tuktoyaktuk Number 39 in Set 1.\n",
      "Processing chokurdakh Number 40 in Set 1.\n",
      "Processing nizwa Number 41 in Set 1.\n",
      "Processing blind river Number 42 in Set 1.\n",
      "Processing zalantun Number 43 in Set 1.\n",
      "Processing ohara Number 44 in Set 1.\n",
      "Processing camargo Number 45 in Set 1.\n",
      "Processing barabai Number 46 in Set 1.\n",
      "Processing norman wells Number 47 in Set 1.\n",
      "Processing butaritari Number 48 in Set 1.\n",
      "Processing port alfred Number 49 in Set 1.\n",
      "Processing severo-kurilsk Number 1 in Set 2.\n",
      "Processing ambad Number 2 in Set 2.\n",
      "Processing belushya guba Number 3 in Set 2.\n",
      "belushya guba not found. Skipping.\n",
      "Processing taolanaro Number 4 in Set 2.\n",
      "taolanaro not found. Skipping.\n",
      "Processing arlit Number 5 in Set 2.\n",
      "Processing cape town Number 6 in Set 2.\n",
      "Processing avarua Number 7 in Set 2.\n",
      "Processing mehamn Number 8 in Set 2.\n",
      "Processing avera Number 9 in Set 2.\n",
      "Processing codrington Number 10 in Set 2.\n",
      "Processing tuatapere Number 11 in Set 2.\n",
      "Processing yellowknife Number 12 in Set 2.\n",
      "Processing hasaki Number 13 in Set 2.\n",
      "Processing salalah Number 14 in Set 2.\n",
      "Processing the valley Number 15 in Set 2.\n",
      "Processing puerto ayora Number 16 in Set 2.\n",
      "Processing vestmannaeyjar Number 17 in Set 2.\n",
      "Processing barrow Number 18 in Set 2.\n",
      "Processing deloraine Number 19 in Set 2.\n",
      "Processing kita Number 20 in Set 2.\n",
      "Processing bredasdorp Number 21 in Set 2.\n",
      "Processing louisbourg Number 22 in Set 2.\n",
      "louisbourg not found. Skipping.\n",
      "Processing satipo Number 23 in Set 2.\n",
      "Processing nome Number 24 in Set 2.\n",
      "Processing sistranda Number 25 in Set 2.\n",
      "Processing valentin gomez farias Number 26 in Set 2.\n",
      "Processing port hardy Number 27 in Set 2.\n",
      "Processing new norfolk Number 28 in Set 2.\n",
      "Processing port lincoln Number 29 in Set 2.\n",
      "Processing divnoye Number 30 in Set 2.\n",
      "Processing fez Number 31 in Set 2.\n",
      "Processing willowmore Number 32 in Set 2.\n",
      "Processing putina Number 33 in Set 2.\n",
      "Processing yulara Number 34 in Set 2.\n",
      "Processing ribeira grande Number 35 in Set 2.\n",
      "Processing morehead Number 36 in Set 2.\n",
      "Processing georgetown Number 37 in Set 2.\n",
      "Processing samusu Number 38 in Set 2.\n",
      "samusu not found. Skipping.\n",
      "Processing bolungarvik Number 39 in Set 2.\n",
      "bolungarvik not found. Skipping.\n",
      "Processing aksarka Number 40 in Set 2.\n",
      "Processing east london Number 41 in Set 2.\n",
      "Processing half moon bay Number 42 in Set 2.\n",
      "Processing hithadhoo Number 43 in Set 2.\n",
      "Processing shiroishi Number 44 in Set 2.\n",
      "Processing talnakh Number 45 in Set 2.\n",
      "Processing port shepstone Number 46 in Set 2.\n",
      "Processing provideniya Number 47 in Set 2.\n",
      "Processing toppenish Number 48 in Set 2.\n",
      "Processing yarmouth Number 49 in Set 2.\n",
      "Processing lazaro cardenas Number 1 in Set 3.\n",
      "Processing tazovskiy Number 2 in Set 3.\n",
      "Processing isangel Number 3 in Set 3.\n",
      "Processing atasu Number 4 in Set 3.\n",
      "Processing barentsburg Number 5 in Set 3.\n",
      "barentsburg not found. Skipping.\n",
      "Processing grand gaube Number 6 in Set 3.\n",
      "Processing srednekolymsk Number 7 in Set 3.\n",
      "Processing bambous virieux Number 8 in Set 3.\n",
      "Processing hobart Number 9 in Set 3.\n",
      "Processing lardos Number 10 in Set 3.\n",
      "Processing umzimvubu Number 11 in Set 3.\n",
      "umzimvubu not found. Skipping.\n",
      "Processing tiksi Number 12 in Set 3.\n",
      "Processing thompson Number 13 in Set 3.\n",
      "Processing srandakan Number 14 in Set 3.\n",
      "Processing atuona Number 15 in Set 3.\n",
      "Processing torbay Number 16 in Set 3.\n",
      "Processing balimo Number 17 in Set 3.\n",
      "balimo not found. Skipping.\n",
      "Processing millinocket Number 18 in Set 3.\n",
      "Processing guerrero negro Number 19 in Set 3.\n",
      "Processing henties bay Number 20 in Set 3.\n",
      "Processing aksu Number 21 in Set 3.\n",
      "Processing hambantota Number 22 in Set 3.\n",
      "Processing bagdarin Number 23 in Set 3.\n",
      "Processing cidreira Number 24 in Set 3.\n",
      "Processing klaksvik Number 25 in Set 3.\n",
      "Processing quechultenango Number 26 in Set 3.\n",
      "Processing pangnirtung Number 27 in Set 3.\n",
      "Processing axim Number 28 in Set 3.\n",
      "Processing carndonagh Number 29 in Set 3.\n",
      "Processing jurm Number 30 in Set 3.\n",
      "Processing newport Number 31 in Set 3.\n",
      "Processing bernburg Number 32 in Set 3.\n",
      "Processing vieste Number 33 in Set 3.\n",
      "Processing mount gambier Number 34 in Set 3.\n",
      "Processing paka Number 35 in Set 3.\n",
      "Processing kruisfontein Number 36 in Set 3.\n",
      "Processing taitung Number 37 in Set 3.\n",
      "Processing kalat Number 38 in Set 3.\n",
      "Processing rosetown Number 39 in Set 3.\n",
      "Processing mys shmidta Number 40 in Set 3.\n",
      "mys shmidta not found. Skipping.\n",
      "Processing hobyo Number 41 in Set 3.\n",
      "Processing saint-augustin Number 42 in Set 3.\n",
      "Processing capanema Number 43 in Set 3.\n",
      "Processing russell Number 44 in Set 3.\n",
      "Processing tomatlan Number 45 in Set 3.\n",
      "Processing iskateley Number 46 in Set 3.\n",
      "Processing vao Number 47 in Set 3.\n",
      "Processing katsuura Number 48 in Set 3.\n",
      "Processing esperance Number 49 in Set 3.\n",
      "Processing aracuai Number 1 in Set 4.\n",
      "Processing tasiilaq Number 2 in Set 4.\n",
      "Processing eydhafushi Number 3 in Set 4.\n",
      "Processing san vicente Number 4 in Set 4.\n",
      "Processing kahului Number 5 in Set 4.\n",
      "Processing monster Number 6 in Set 4.\n",
      "Processing maniitsoq Number 7 in Set 4.\n",
      "Processing ilulissat Number 8 in Set 4.\n",
      "Processing victoria Number 9 in Set 4.\n",
      "Processing zyryanka Number 10 in Set 4.\n",
      "Processing clyde river Number 11 in Set 4.\n",
      "Processing hamilton Number 12 in Set 4.\n",
      "Processing san cristobal Number 13 in Set 4.\n",
      "Processing pfarrkirchen Number 14 in Set 4.\n",
      "Processing petropavlovsk-kamchatskiy Number 15 in Set 4.\n",
      "Processing tolga Number 16 in Set 4.\n",
      "Processing minab Number 17 in Set 4.\n",
      "Processing bengkulu Number 18 in Set 4.\n",
      "Processing richards bay Number 19 in Set 4.\n",
      "Processing nanakuli Number 20 in Set 4.\n",
      "Processing lorengau Number 21 in Set 4.\n",
      "Processing hami Number 22 in Set 4.\n",
      "Processing port augusta Number 23 in Set 4.\n"
     ]
    }
   ],
   "source": [
    "#Create Query URL\n",
    "url = \"http://api.openweathermap.org/data/2.5/weather?\"\n",
    "query_url = url + \"appid=\" + weather_api_key + \"&units=\"+\"imperial\"+\"&q=\"\n",
    "\n",
    "#Set up lists\n",
    "place = []\n",
    "lat = []\n",
    "long = []\n",
    "temp = []\n",
    "humid = []\n",
    "cloud = []\n",
    "wind = []\n",
    "country = []\n",
    "datetime = []\n",
    "\n",
    "item = 1\n",
    "city_set = 1\n",
    "\n",
    "#Loop through cities in the cities list\n",
    "for city in cities:\n",
    "\n",
    "    #for items 1 through 50\n",
    "    if item < 50:\n",
    "        try:\n",
    "            response = requests.get(query_url + city).json()\n",
    "            print(f\"Processing {city} Number {item} in Set {city_set}.\")\n",
    "            item = item + 1\n",
    "            place.append(response['name'])\n",
    "            lat.append(response['coord']['lat'])\n",
    "            long.append(response['coord']['lon'])\n",
    "            temp.append(response['main']['temp_max'])\n",
    "            humid.append(response['main']['humidity'])\n",
    "            cloud.append(response['clouds']['all'])\n",
    "            wind.append(response['wind']['speed'])\n",
    "            country.append(response['sys']['country'])\n",
    "            datetime.append(response['dt'])\n",
    "                    \n",
    "        except:\n",
    "            print(f\"{city} not found. Skipping.\")\n",
    "    \n",
    "    else:\n",
    "        item = 1\n",
    "        city_set = city_set + 1\n",
    "        time.sleep(5)"
   ]
  },
  {
   "cell_type": "code",
   "execution_count": null,
   "metadata": {
    "scrolled": true
   },
   "outputs": [],
   "source": []
  },
  {
   "cell_type": "markdown",
   "metadata": {},
   "source": [
    "### Convert Raw Data to DataFrame\n",
    "* Export the city data into a .csv.\n",
    "* Display the DataFrame"
   ]
  },
  {
   "cell_type": "code",
   "execution_count": null,
   "metadata": {},
   "outputs": [],
   "source": [
    "\n",
    "#Create city weather dataframe\n",
    "city_weather_df = pd.DataFrame({\"City\":place,\n",
    "                                \"Country\": country,\n",
    "                                \"Lat\": lat,\n",
    "                                \"Long\": long,\n",
    "                                \"Max Temp\": temp,\n",
    "                                \"Humidity\": humid,\n",
    "                                \"Cloudiness\": cloud,\n",
    "                                \"Wind Speed\": wind,\n",
    "                                \"Date\": datetime})\n",
    "city_weather_df"
   ]
  },
  {
   "cell_type": "code",
   "execution_count": null,
   "metadata": {},
   "outputs": [],
   "source": []
  },
  {
   "cell_type": "code",
   "execution_count": null,
   "metadata": {},
   "outputs": [],
   "source": []
  },
  {
   "cell_type": "code",
   "execution_count": null,
   "metadata": {},
   "outputs": [],
   "source": [
    "city_weather_df.describe()\n"
   ]
  },
  {
   "cell_type": "code",
   "execution_count": null,
   "metadata": {},
   "outputs": [],
   "source": [
    "city_weather_df.to_csv(output_data_file)\n"
   ]
  },
  {
   "cell_type": "code",
   "execution_count": null,
   "metadata": {},
   "outputs": [],
   "source": []
  },
  {
   "cell_type": "code",
   "execution_count": null,
   "metadata": {},
   "outputs": [],
   "source": []
  },
  {
   "cell_type": "markdown",
   "metadata": {},
   "source": [
    "## Inspect the data and remove the cities where the humidity > 100%.\n",
    "----\n",
    "Skip this step if there are no cities that have humidity > 100%. "
   ]
  },
  {
   "cell_type": "code",
   "execution_count": null,
   "metadata": {},
   "outputs": [],
   "source": []
  },
  {
   "cell_type": "code",
   "execution_count": null,
   "metadata": {},
   "outputs": [],
   "source": [
    "\n",
    "humidity = city_weather_df[city_weather_df[\"Humidity\"] > 100]\n",
    "humidity\n",
    "#NO CITIES WITH HUMIDITY OVER 100\n"
   ]
  },
  {
   "cell_type": "code",
   "execution_count": null,
   "metadata": {},
   "outputs": [],
   "source": [
    "\n",
    "city_weather_df"
   ]
  },
  {
   "cell_type": "code",
   "execution_count": null,
   "metadata": {},
   "outputs": [],
   "source": [
    "\n"
   ]
  },
  {
   "cell_type": "markdown",
   "metadata": {},
   "source": [
    "## Plotting the Data\n",
    "* Use proper labeling of the plots using plot titles (including date of analysis) and axes labels.\n",
    "* Save the plotted figures as .pngs."
   ]
  },
  {
   "cell_type": "markdown",
   "metadata": {},
   "source": [
    "## Latitude vs. Temperature Plot"
   ]
  },
  {
   "cell_type": "code",
   "execution_count": null,
   "metadata": {
    "scrolled": true
   },
   "outputs": [],
   "source": [
    "#Scatter plot for Latitude vs. Temperature\n",
    "#set x and y values\n",
    "x_values = city_weather_df[\"Lat\"]\n",
    "y_values = city_weather_df[\"Max Temp\"]\n",
    "\n",
    "#create scatter plot\n",
    "plt.scatter(x_values, y_values, marker=\"o\", facecolors=\"blue\", edgecolors=\"black\", alpha=0.75)\n",
    "plt.title(\"City Latitude vs Max Temperature (04/27/2021)\")\n",
    "plt.xlabel(\"Latitude\")\n",
    "plt.ylabel(\"Max Temperature (F)\")\n",
    "\n",
    "#Save graph to a PNG file\n",
    "plt.savefig(\"../output_data/Lat_Temp.png\")"
   ]
  },
  {
   "cell_type": "markdown",
   "metadata": {},
   "source": [
    "## Latitude vs. Humidity Plot"
   ]
  },
  {
   "cell_type": "code",
   "execution_count": null,
   "metadata": {},
   "outputs": [],
   "source": [
    "#Scatter plot for Latitude vs. Humidity\n",
    "#set x and y values\n",
    "x_values = city_weather_df[\"Lat\"]\n",
    "y_values = city_weather_df[\"Humidity\"]\n",
    "\n",
    "#create scatter plot\n",
    "plt.scatter(x_values, y_values, marker=\"o\", facecolors=\"blue\", edgecolors=\"black\", alpha=0.75)\n",
    "plt.title(\"City Latitude vs Humidity (04/27/2021)\")\n",
    "plt.xlabel(\"Latitude\")\n",
    "plt.ylabel(\"Humidity (%)\")\n",
    "\n",
    "#Save graph to a PNG file\n",
    "plt.savefig(\"../output_data/Lat_Humid.png\")"
   ]
  },
  {
   "cell_type": "markdown",
   "metadata": {},
   "source": [
    "## Latitude vs. Cloudiness Plot"
   ]
  },
  {
   "cell_type": "code",
   "execution_count": null,
   "metadata": {},
   "outputs": [],
   "source": [
    "#Scatter plot for Latitude vs. Cloudiness\n",
    "#set x and y values\n",
    "x_values = city_weather_df[\"Lat\"]\n",
    "y_values = city_weather_df[\"Cloudiness\"]\n",
    "\n",
    "#create scatter plot\n",
    "plt.scatter(x_values, y_values, marker=\"o\", facecolors=\"blue\", edgecolors=\"black\", alpha=0.75)\n",
    "plt.title(\"City Latitude vs Cloudiness (04/27/2021)\")\n",
    "plt.xlabel(\"Latitude\")\n",
    "plt.ylabel(\"Cloudiness (%)\")\n",
    "\n",
    "#Save graph to a PNG file\n",
    "plt.savefig(\"../output_data/Lat_Cloud.png\")"
   ]
  },
  {
   "cell_type": "markdown",
   "metadata": {},
   "source": [
    "## Latitude vs. Wind Speed Plot"
   ]
  },
  {
   "cell_type": "code",
   "execution_count": null,
   "metadata": {},
   "outputs": [],
   "source": [
    "#Scatter plot for Latitude vs. Temperature\n",
    "#set x and y values\n",
    "x_values = city_weather_df[\"Lat\"]\n",
    "y_values = city_weather_df[\"Wind Speed\"]\n",
    "\n",
    "#create scatter plot\n",
    "plt.scatter(x_values, y_values, marker=\"o\", facecolors=\"blue\", edgecolors=\"black\", alpha=0.75)\n",
    "plt.title(\"City Latitude vs Wind Speed (04/27/2021)\")\n",
    "plt.xlabel(\"Latitude\")\n",
    "plt.ylabel(\"Wind Speed (mph)\")\n",
    "\n",
    "#Save graph to a PNG file\n",
    "plt.savefig(\"../output_data/Lat_Wind.png\")"
   ]
  },
  {
   "cell_type": "markdown",
   "metadata": {},
   "source": [
    "## Linear Regression"
   ]
  },
  {
   "cell_type": "code",
   "execution_count": null,
   "metadata": {},
   "outputs": [],
   "source": []
  },
  {
   "cell_type": "markdown",
   "metadata": {},
   "source": [
    "####  Northern Hemisphere - Max Temp vs. Latitude Linear Regression"
   ]
  },
  {
   "cell_type": "code",
   "execution_count": null,
   "metadata": {},
   "outputs": [],
   "source": [
    "northern_df = city_weather_df[city_weather_df[\"Lat\"] > 0]\n",
    "\n",
    "\n",
    "#set x and y values\n",
    "x_values = northern_df[\"Lat\"]\n",
    "y_values = northern_df[\"Max Temp\"]\n",
    "\n",
    "(slope, intercept, rvalue, pvalue, stderr) = linregress(x_values, y_values)\n",
    "regress_values = x_values * slope + intercept\n",
    "line_eq = \"y = \" + str(round(slope,2)) + \"x + \" + str(round(intercept,2))\n",
    "\n",
    "#plot scatter\n",
    "plt.scatter(x_values, y_values, marker=\"o\", facecolors=\"blue\", alpha=0.75)\n",
    "plt.title(\"Northern Hemisphere - Latitude vs Max Temp (04/27/2021)\")\n",
    "plt.xlabel(\"Latitude\")\n",
    "plt.ylabel(\"Max Temperature (F)\")\n",
    "\n",
    "#plot line\n",
    "plt.plot(x_values,regress_values,\"r-\")\n",
    "plt.annotate(line_eq,(20,20),fontsize=12,color=\"red\")\n",
    "\n",
    "print(f\"The r-value is {rvalue}\")\n",
    "\n",
    "#Save graph to a PNG file\n",
    "plt.savefig(\"../output_data/NH_Lat_Temp.png\")"
   ]
  },
  {
   "cell_type": "markdown",
   "metadata": {},
   "source": [
    "####  Southern Hemisphere - Max Temp vs. Latitude Linear Regression"
   ]
  },
  {
   "cell_type": "code",
   "execution_count": null,
   "metadata": {},
   "outputs": [],
   "source": [
    "southern_df = city_weather_df[city_weather_df[\"Lat\"] < 0]\n",
    "\n",
    "\n",
    "#set x and y values\n",
    "x_values = southern_df[\"Lat\"]\n",
    "y_values = southern_df[\"Max Temp\"]\n",
    "\n",
    "(slope, intercept, rvalue, pvalue, stderr) = linregress(x_values, y_values)\n",
    "regress_values = x_values * slope + intercept\n",
    "line_eq = \"y = \" + str(round(slope,2)) + \"x + \" + str(round(intercept,2))\n",
    "\n",
    "#plot scatter\n",
    "plt.scatter(x_values, y_values, marker=\"o\", facecolors=\"blue\", alpha=0.75)\n",
    "plt.title(\"Southern Hemisphere - Latitude vs Max Temp (04/27/2021)\")\n",
    "plt.xlabel(\"Latitude\")\n",
    "plt.ylabel(\"Max Temperature (F)\")\n",
    "\n",
    "#plot line\n",
    "plt.plot(x_values,regress_values,\"r-\")\n",
    "plt.annotate(line_eq,(-20,50),fontsize=12,color=\"red\")\n",
    "\n",
    "print(f\"The r-value is {rvalue}\")\n",
    "\n",
    "#Save graph to a PNG file\n",
    "plt.savefig(\"../output_data/SH_Lat_Temp.png\")"
   ]
  },
  {
   "cell_type": "markdown",
   "metadata": {},
   "source": [
    "####  Northern Hemisphere - Humidity (%) vs. Latitude Linear Regression"
   ]
  },
  {
   "cell_type": "code",
   "execution_count": null,
   "metadata": {},
   "outputs": [],
   "source": [
    "\n",
    "#set x and y values\n",
    "x_values = northern_df[\"Lat\"]\n",
    "y_values = northern_df[\"Humidity\"]\n",
    "\n",
    "(slope, intercept, rvalue, pvalue, stderr) = linregress(x_values, y_values)\n",
    "regress_values = x_values * slope + intercept\n",
    "line_eq = \"y = \" + str(round(slope,2)) + \"x + \" + str(round(intercept,2))\n",
    "\n",
    "#plot scatter\n",
    "plt.scatter(x_values, y_values, marker=\"o\", facecolors=\"blue\", alpha=0.75)\n",
    "plt.title(\"Northern Hemisphere - Latitude vs Humidity (04/27/2021)\")\n",
    "plt.xlabel(\"Latitude\")\n",
    "plt.ylabel(\"Humidity (%)\")\n",
    "\n",
    "#plot line\n",
    "plt.plot(x_values,regress_values,\"r-\")\n",
    "plt.annotate(line_eq,(50,20),fontsize=12,color=\"red\")\n",
    "\n",
    "print(f\"The r-value is {rvalue}\")\n",
    "\n",
    "#Save graph to a PNG file\n",
    "plt.savefig(\"../output_data/NH_Lat_Humid.png\")"
   ]
  },
  {
   "cell_type": "markdown",
   "metadata": {},
   "source": [
    "####  Southern Hemisphere - Humidity (%) vs. Latitude Linear Regression"
   ]
  },
  {
   "cell_type": "code",
   "execution_count": null,
   "metadata": {},
   "outputs": [],
   "source": [
    "\n",
    "#set x and y values\n",
    "x_values = southern_df[\"Lat\"]\n",
    "y_values = southern_df[\"Humidity\"]\n",
    "\n",
    "(slope, intercept, rvalue, pvalue, stderr) = linregress(x_values, y_values)\n",
    "regress_values = x_values * slope + intercept\n",
    "line_eq = \"y = \" + str(round(slope,2)) + \"x + \" + str(round(intercept,2))\n",
    "\n",
    "#plot scatter\n",
    "plt.scatter(x_values, y_values, marker=\"o\", facecolors=\"blue\", alpha=0.75)\n",
    "plt.title(\"Southern Hemisphere - Latitude vs Humidity (04/27/2021)\")\n",
    "plt.xlabel(\"Latitude\")\n",
    "plt.ylabel(\"Humidity (%)\")\n",
    "\n",
    "#plot line\n",
    "plt.plot(x_values,regress_values,\"r-\")\n",
    "plt.annotate(line_eq,(-50,20),fontsize=12,color=\"red\")\n",
    "\n",
    "print(f\"The r-value is {rvalue}\")\n",
    "\n",
    "#Save graph to a PNG file\n",
    "plt.savefig(\"../output_data/SH_Lat_Humid.png\")"
   ]
  },
  {
   "cell_type": "markdown",
   "metadata": {},
   "source": [
    "####  Northern Hemisphere - Cloudiness (%) vs. Latitude Linear Regression"
   ]
  },
  {
   "cell_type": "code",
   "execution_count": null,
   "metadata": {},
   "outputs": [],
   "source": [
    "\n",
    "#set x and y values\n",
    "x_values = northern_df[\"Lat\"]\n",
    "y_values = northern_df[\"Cloudiness\"]\n",
    "\n",
    "(slope, intercept, rvalue, pvalue, stderr) = linregress(x_values, y_values)\n",
    "regress_values = x_values * slope + intercept\n",
    "line_eq = \"y = \" + str(round(slope,2)) + \"x + \" + str(round(intercept,2))\n",
    "\n",
    "#plot scatter\n",
    "plt.scatter(x_values, y_values, marker=\"o\", facecolors=\"blue\", alpha=0.75)\n",
    "plt.title(\"Northern Hemisphere - Latitude vs Cloudiness (04/27/2021)\")\n",
    "plt.xlabel(\"Latitude\")\n",
    "plt.ylabel(\"Cloudiness (%)\")\n",
    "\n",
    "#plot line\n",
    "plt.plot(x_values,regress_values,\"r-\")\n",
    "plt.annotate(line_eq,(50,40),fontsize=14,color=\"red\")\n",
    "\n",
    "print(f\"The r-value is {rvalue}\")\n",
    "\n",
    "#Save graph to a PNG file\n",
    "plt.savefig(\"../output_data/NH_Lat_Cloud.png\")"
   ]
  },
  {
   "cell_type": "markdown",
   "metadata": {},
   "source": [
    "####  Southern Hemisphere - Cloudiness (%) vs. Latitude Linear Regression"
   ]
  },
  {
   "cell_type": "code",
   "execution_count": null,
   "metadata": {},
   "outputs": [],
   "source": [
    "\n",
    "#set x and y values\n",
    "x_values = southern_df[\"Lat\"]\n",
    "y_values = southern_df[\"Cloudiness\"]\n",
    "\n",
    "(slope, intercept, rvalue, pvalue, stderr) = linregress(x_values, y_values)\n",
    "regress_values = x_values * slope + intercept\n",
    "line_eq = \"y = \" + str(round(slope,2)) + \"x + \" + str(round(intercept,2))\n",
    "\n",
    "#plot scatter\n",
    "plt.scatter(x_values, y_values, marker=\"o\", facecolors=\"blue\", alpha=0.75)\n",
    "plt.title(\"Southern Hemisphere - Latitude vs Cloudiness (04/27/2021)\")\n",
    "plt.xlabel(\"Latitude\")\n",
    "plt.ylabel(\"Cloudiness (%)\")\n",
    "\n",
    "plt.plot(x_values,regress_values,\"r-\")\n",
    "plt.annotate(line_eq,(-55,30),fontsize=12,color=\"red\")\n",
    "\n",
    "print(f\"The r-value is {rvalue}\")\n",
    "\n",
    "#Save graph to a PNG file\n",
    "plt.savefig(\"../output_data/SH_Lat_Cloud.png\")"
   ]
  },
  {
   "cell_type": "markdown",
   "metadata": {},
   "source": [
    "####  Northern Hemisphere - Wind Speed (mph) vs. Latitude Linear Regression"
   ]
  },
  {
   "cell_type": "code",
   "execution_count": null,
   "metadata": {},
   "outputs": [],
   "source": [
    "\n",
    "#set x and y values\n",
    "x_values = northern_df[\"Lat\"]\n",
    "y_values = northern_df[\"Wind Speed\"]\n",
    "\n",
    "(slope, intercept, rvalue, pvalue, stderr) = linregress(x_values, y_values)\n",
    "regress_values = x_values * slope + intercept\n",
    "line_eq = \"y = \" + str(round(slope,2)) + \"x + \" + str(round(intercept,2))\n",
    "\n",
    "#plot scatter\n",
    "plt.scatter(x_values, y_values, marker=\"o\", facecolors=\"blue\", alpha=0.75)\n",
    "plt.title(\"Northern Hemisphere - Latitude vs Wind Speed (04/27/2021)\")\n",
    "plt.xlabel(\"Latitude\")\n",
    "plt.ylabel(\"Wind Speed (mph)\")\n",
    "\n",
    "plt.plot(x_values,regress_values,\"r-\")\n",
    "plt.annotate(line_eq,(0,25),fontsize=12,color=\"red\")\n",
    "\n",
    "print(f\"The r-value is {rvalue}\")\n",
    "\n",
    "plt.savefig(\"../output_data/NH_Lat_Wind.png\")"
   ]
  },
  {
   "cell_type": "markdown",
   "metadata": {},
   "source": [
    "####  Southern Hemisphere - Wind Speed (mph) vs. Latitude Linear Regression"
   ]
  },
  {
   "cell_type": "code",
   "execution_count": null,
   "metadata": {},
   "outputs": [],
   "source": [
    "\n",
    "x_values = southern_df[\"Lat\"]\n",
    "y_values = southern_df[\"Wind Speed\"]\n",
    "\n",
    "(slope, intercept, rvalue, pvalue, stderr) = linregress(x_values, y_values)\n",
    "regress_values = x_values * slope + intercept\n",
    "line_eq = \"y = \" + str(round(slope,2)) + \"x + \" + str(round(intercept,2))\n",
    "\n",
    "#plot scatter\n",
    "plt.scatter(x_values, y_values, marker=\"o\", facecolors=\"blue\", alpha=0.75)\n",
    "plt.title(\"Southern Hemisphere - Latitude vs Wind Speed (04/27/2021)\")\n",
    "plt.xlabel(\"Latitude\")\n",
    "plt.ylabel(\"Wind Speed (mph)\")\n",
    "\n",
    "plt.plot(x_values,regress_values,\"r-\")\n",
    "plt.annotate(line_eq,(-55,17),fontsize=14,color=\"red\")\n",
    "\n",
    "print(f\"The r-value is {rvalue}\")\n",
    "\n",
    "plt.savefig(\"../output_data/SH_Lat_Wind.png\")"
   ]
  },
  {
   "cell_type": "code",
   "execution_count": null,
   "metadata": {},
   "outputs": [],
   "source": []
  }
 ],
 "metadata": {
  "anaconda-cloud": {},
  "kernel_info": {
   "name": "python3"
  },
  "kernelspec": {
   "display_name": "Python 3",
   "language": "python",
   "name": "python3"
  },
  "language_info": {
   "codemirror_mode": {
    "name": "ipython",
    "version": 3
   },
   "file_extension": ".py",
   "mimetype": "text/x-python",
   "name": "python",
   "nbconvert_exporter": "python",
   "pygments_lexer": "ipython3",
   "version": "3.8.5"
  },
  "latex_envs": {
   "LaTeX_envs_menu_present": true,
   "autoclose": false,
   "autocomplete": true,
   "bibliofile": "biblio.bib",
   "cite_by": "apalike",
   "current_citInitial": 1,
   "eqLabelWithNumbers": true,
   "eqNumInitial": 1,
   "hotkeys": {
    "equation": "Ctrl-E",
    "itemize": "Ctrl-I"
   },
   "labels_anchors": false,
   "latex_user_defs": false,
   "report_style_numbering": false,
   "user_envs_cfg": false
  },
  "nteract": {
   "version": "0.12.3"
  }
 },
 "nbformat": 4,
 "nbformat_minor": 2
}
